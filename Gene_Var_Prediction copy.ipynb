{
  "nbformat": 4,
  "nbformat_minor": 0,
  "metadata": {
    "colab": {
      "provenance": []
    },
    "kernelspec": {
      "name": "python3",
      "display_name": "Python 3"
    },
    "language_info": {
      "name": "python"
    }
  },
  "cells": [
    {
      "cell_type": "code",
      "execution_count": null,
      "metadata": {
        "id": "PxQOR0HNy2rw"
      },
      "outputs": [],
      "source": []
    },
    {
      "cell_type": "markdown",
      "source": [
        "# Genetic Variation Prediction (Benign Or Pathogenic)"
      ],
      "metadata": {
        "id": "8Sx4K88xzGDF"
      }
    },
    {
      "cell_type": "markdown",
      "source": [
        "## Data Preprocessing"
      ],
      "metadata": {
        "id": "YFtr_qtHzWp1"
      }
    },
    {
      "cell_type": "markdown",
      "source": [
        "### Importing the Libraries"
      ],
      "metadata": {
        "id": "SCLopAE-zZ8O"
      }
    },
    {
      "cell_type": "code",
      "source": [
        "import tensorflow as tf\n",
        "import pandas as pd\n",
        "import numpy as np\n",
        "import matplotlib.pyplot as plt"
      ],
      "metadata": {
        "id": "aTlqF3ixzcRt"
      },
      "execution_count": null,
      "outputs": []
    },
    {
      "cell_type": "markdown",
      "source": [
        "### Importing the dataset"
      ],
      "metadata": {
        "id": "5KhAOrVwzuFS"
      }
    },
    {
      "cell_type": "code",
      "source": [
        "dataset=pd.read_csv('gene_var_1.csv')\n",
        "X=dataset.iloc[:,1:-1].values\n",
        "y=dataset.iloc[:,-1].values"
      ],
      "metadata": {
        "id": "8G72HozEz35r"
      },
      "execution_count": null,
      "outputs": []
    },
    {
      "cell_type": "code",
      "source": [
        "print(X)"
      ],
      "metadata": {
        "colab": {
          "base_uri": "https://localhost:8080/"
        },
        "id": "gWcCXrJ63wyk",
        "outputId": "d449f036-229a-4e7d-ca17-029ce22a153e"
      },
      "execution_count": null,
      "outputs": [
        {
          "output_type": "stream",
          "name": "stdout",
          "text": [
            "[[1 1168180 0.0771 ... 522 174 1]\n",
            " [1 1470752 0.0 ... 509 170 -1]\n",
            " [1 1737942 0.0 ... 239 80 -1]\n",
            " ...\n",
            " [1 55505647 0.0098 ... 137 46 1]\n",
            " [1 55505668 0.0958 ... 158 53 1]\n",
            " [1 55509689 0.0 ... 381 127 1]]\n"
          ]
        }
      ]
    },
    {
      "cell_type": "code",
      "source": [
        "print(y)"
      ],
      "metadata": {
        "id": "UbFT66o33_tA",
        "colab": {
          "base_uri": "https://localhost:8080/"
        },
        "outputId": "764cf52e-249c-468b-81f3-b6bc47bf82aa"
      },
      "execution_count": null,
      "outputs": [
        {
          "output_type": "stream",
          "name": "stdout",
          "text": [
            "[0 0 1 0 0 0 0 0 1 0 1 1 0 0 0 0 0 0 0 1 0 1 0 0 0 0 0 0 1 0 1 0 1 0 0 1 0\n",
            " 0 0 0 0 0 0 0 0 0 0 0 1 1 1 0 1 0 1 0 0 0 0 0 0 0 1 0 1 0 1 1 1 0 0 1 0 0\n",
            " 0 0 0 0 0 0 0 0 0 0 0 0 0 0 0 0 1 0 0 0 0 0 1 0 0 0 0 0 0 0 0 1 0 0 0 0 0\n",
            " 0 0 0 0 0 0 0 0 0 0 0 0 0 0 0 0 0 0 0 0 0 0 0 0 0 1 1 0 1 0 0 0 0 0 1 0 0\n",
            " 1 0 0 1 1 0 0 0 1 0 0]\n"
          ]
        }
      ]
    },
    {
      "cell_type": "markdown",
      "source": [
        "### Redefining the coloumns"
      ],
      "metadata": {
        "id": "TrIaI80R4N04"
      }
    },
    {
      "cell_type": "code",
      "source": [
        "print(X)"
      ],
      "metadata": {
        "id": "eIX0o_xq6nPT",
        "colab": {
          "base_uri": "https://localhost:8080/"
        },
        "outputId": "d5785eb2-0e8c-450a-efd7-e944b12ca63a"
      },
      "execution_count": null,
      "outputs": [
        {
          "output_type": "stream",
          "name": "stdout",
          "text": [
            "[[1 1168180 0.0771 ... 522 174 1]\n",
            " [1 1470752 0.0 ... 509 170 -1]\n",
            " [1 1737942 0.0 ... 239 80 -1]\n",
            " ...\n",
            " [1 55505647 0.0098 ... 137 46 1]\n",
            " [1 55505668 0.0958 ... 158 53 1]\n",
            " [1 55509689 0.0 ... 381 127 1]]\n"
          ]
        }
      ]
    },
    {
      "cell_type": "code",
      "source": [
        "dataset['Allele'].value_counts()"
      ],
      "metadata": {
        "id": "JIP6sjAe6ve5",
        "colab": {
          "base_uri": "https://localhost:8080/"
        },
        "outputId": "85fec809-3cdf-41b4-c728-747c3466b92e"
      },
      "execution_count": null,
      "outputs": [
        {
          "output_type": "execute_result",
          "data": {
            "text/plain": [
              "A    60\n",
              "T    49\n",
              "C    27\n",
              "G    23\n",
              "Name: Allele, dtype: int64"
            ]
          },
          "metadata": {},
          "execution_count": 140
        }
      ]
    },
    {
      "cell_type": "code",
      "source": [
        "X\n"
      ],
      "metadata": {
        "id": "5n8ulIsP62kB"
      },
      "execution_count": null,
      "outputs": []
    },
    {
      "cell_type": "code",
      "source": [
        "print(X[:,5])"
      ],
      "metadata": {
        "colab": {
          "base_uri": "https://localhost:8080/"
        },
        "id": "akTGXO7o69vN",
        "outputId": "ce6f6450-7da5-444a-e1a5-08ba2cd5b957"
      },
      "execution_count": null,
      "outputs": [
        {
          "output_type": "stream",
          "name": "stdout",
          "text": [
            "[1 0 2 0 3 1 1 3 0 0 0 0 3 3 0 3 3 3 0 3 1 0 0 2 0 3 0 0 3 0 0 0 1 0 3 3 0\n",
            " 0 3 1 3 0 1 0 3 1 0 2 2 0 3 3 3 2 3 0 3 3 0 1 3 2 2 3 1 1 3 2 0 3 3 3 1 0\n",
            " 0 0 0 1 1 1 0 3 2 1 1 3 0 0 3 2 1 3 1 1 0 1 2 0 0 0 0 2 0 3 3 0 0 2 2 1 3\n",
            " 2 0 2 0 2 3 1 1 0 2 0 0 3 0 3 0 3 0 3 0 3 0 1 0 2 3 3 0 3 0 1 0 3 3 2 0 3\n",
            " 3 2 0 1 0 2 2 0 3 3 0]\n"
          ]
        }
      ]
    },
    {
      "cell_type": "code",
      "source": [
        "from sklearn.preprocessing import LabelEncoder\n",
        "le = LabelEncoder()\n",
        "X[:, 6] = le.fit_transform(X[:, 6])"
      ],
      "metadata": {
        "id": "eFB9OdwPGIVr"
      },
      "execution_count": null,
      "outputs": []
    },
    {
      "cell_type": "code",
      "source": [
        "print(X[:,6])"
      ],
      "metadata": {
        "colab": {
          "base_uri": "https://localhost:8080/"
        },
        "id": "KuzLer497LiR",
        "outputId": "18c1f96d-c8c4-4d88-f9d6-1931b19d64d2"
      },
      "execution_count": null,
      "outputs": [
        {
          "output_type": "stream",
          "name": "stdout",
          "text": [
            "[0 0 0 0 0 0 0 0 0 0 0 0 0 0 0 0 0 0 0 0 0 0 0 0 0 0 0 0 0 0 0 0 0 0 0 0 0\n",
            " 0 0 0 0 0 0 0 0 0 0 0 0 0 0 0 0 0 0 0 0 0 0 0 0 0 0 0 0 0 0 0 0 0 0 0 0 0\n",
            " 0 0 0 0 0 0 0 0 0 0 0 0 0 0 0 0 0 0 0 0 0 0 0 0 0 0 0 0 0 0 0 0 0 0 0 0 0\n",
            " 0 0 0 1 0 0 0 0 1 0 0 1 0 0 0 0 0 0 0 0 0 0 0 0 0 0 0 0 0 0 0 0 0 0 0 0 1\n",
            " 0 0 0 0 1 0 0 0 0 0 0]\n"
          ]
        }
      ]
    },
    {
      "cell_type": "code",
      "source": [
        "from sklearn.preprocessing import LabelEncoder\n",
        "le = LabelEncoder()\n",
        "X[:, 7] = le.fit_transform(X[:, 7])"
      ],
      "metadata": {
        "id": "BXYIQNIEGJ90"
      },
      "execution_count": null,
      "outputs": []
    },
    {
      "cell_type": "code",
      "source": [
        "print(X[:,7])"
      ],
      "metadata": {
        "colab": {
          "base_uri": "https://localhost:8080/"
        },
        "id": "BXfG3GZX7SN4",
        "outputId": "ddd58b01-b0cd-46dd-f160-4bb105596a7e"
      },
      "execution_count": null,
      "outputs": [
        {
          "output_type": "stream",
          "name": "stdout",
          "text": [
            "[0 0 0 0 0 0 0 0 0 0 0 0 0 0 0 0 0 0 0 0 0 0 0 0 0 0 0 0 0 0 0 0 0 0 0 0 0\n",
            " 0 0 0 0 0 0 0 0 0 0 0 0 0 0 0 0 0 0 0 0 0 0 0 0 0 0 0 0 0 0 0 0 0 0 0 0 0\n",
            " 0 0 0 0 0 0 0 0 0 0 0 0 0 0 0 0 0 0 0 0 0 0 0 0 0 0 0 0 0 0 0 0 0 0 0 0 0\n",
            " 0 0 0 0 0 0 0 0 0 0 0 0 0 0 0 0 0 0 0 0 0 0 0 0 0 0 0 0 0 0 0 0 0 0 0 0 0\n",
            " 0 0 0 0 0 0 0 0 0 0 0]\n"
          ]
        }
      ]
    },
    {
      "cell_type": "code",
      "source": [
        "from sklearn.preprocessing import LabelEncoder\n",
        "le = LabelEncoder()\n",
        "X[:, 8] = le.fit_transform(X[:, 8])"
      ],
      "metadata": {
        "id": "ePRb4l7dGLnS"
      },
      "execution_count": null,
      "outputs": []
    },
    {
      "cell_type": "code",
      "source": [
        "print(X[:,8])"
      ],
      "metadata": {
        "colab": {
          "base_uri": "https://localhost:8080/"
        },
        "id": "bOOhMWgw7VGx",
        "outputId": "10f66a06-38f9-4fa1-8414-4e31ae813234"
      },
      "execution_count": null,
      "outputs": [
        {
          "output_type": "stream",
          "name": "stdout",
          "text": [
            "[0 0 0 0 0 0 0 0 0 0 0 0 0 0 0 0 0 0 0 0 0 0 0 0 0 0 0 0 0 0 0 0 0 0 0 0 0\n",
            " 0 0 0 0 0 0 0 0 0 0 0 0 0 0 0 0 0 0 0 0 0 0 0 0 0 0 0 0 0 0 0 0 0 0 0 0 0\n",
            " 0 0 0 0 0 0 0 0 0 0 0 0 0 0 0 0 0 0 0 0 0 0 0 0 0 0 0 0 0 0 0 0 0 0 0 0 0\n",
            " 0 0 0 0 0 0 0 0 0 0 0 0 0 0 0 0 0 0 0 0 0 0 0 0 0 0 0 0 0 0 0 0 0 0 0 0 0\n",
            " 0 0 0 0 0 0 0 0 0 0 0]\n"
          ]
        }
      ]
    },
    {
      "cell_type": "code",
      "source": [
        "print(X[:,5:8])"
      ],
      "metadata": {
        "id": "YE-SfNTTBXZ3",
        "colab": {
          "base_uri": "https://localhost:8080/"
        },
        "outputId": "907f27a1-96f1-4c7c-fea5-abc564b66d7a"
      },
      "execution_count": null,
      "outputs": [
        {
          "output_type": "stream",
          "name": "stdout",
          "text": [
            "[[1 0 0]\n",
            " [0 0 0]\n",
            " [2 0 0]\n",
            " [0 0 0]\n",
            " [3 0 0]\n",
            " [1 0 0]\n",
            " [1 0 0]\n",
            " [3 0 0]\n",
            " [0 0 0]\n",
            " [0 0 0]\n",
            " [0 0 0]\n",
            " [0 0 0]\n",
            " [3 0 0]\n",
            " [3 0 0]\n",
            " [0 0 0]\n",
            " [3 0 0]\n",
            " [3 0 0]\n",
            " [3 0 0]\n",
            " [0 0 0]\n",
            " [3 0 0]\n",
            " [1 0 0]\n",
            " [0 0 0]\n",
            " [0 0 0]\n",
            " [2 0 0]\n",
            " [0 0 0]\n",
            " [3 0 0]\n",
            " [0 0 0]\n",
            " [0 0 0]\n",
            " [3 0 0]\n",
            " [0 0 0]\n",
            " [0 0 0]\n",
            " [0 0 0]\n",
            " [1 0 0]\n",
            " [0 0 0]\n",
            " [3 0 0]\n",
            " [3 0 0]\n",
            " [0 0 0]\n",
            " [0 0 0]\n",
            " [3 0 0]\n",
            " [1 0 0]\n",
            " [3 0 0]\n",
            " [0 0 0]\n",
            " [1 0 0]\n",
            " [0 0 0]\n",
            " [3 0 0]\n",
            " [1 0 0]\n",
            " [0 0 0]\n",
            " [2 0 0]\n",
            " [2 0 0]\n",
            " [0 0 0]\n",
            " [3 0 0]\n",
            " [3 0 0]\n",
            " [3 0 0]\n",
            " [2 0 0]\n",
            " [3 0 0]\n",
            " [0 0 0]\n",
            " [3 0 0]\n",
            " [3 0 0]\n",
            " [0 0 0]\n",
            " [1 0 0]\n",
            " [3 0 0]\n",
            " [2 0 0]\n",
            " [2 0 0]\n",
            " [3 0 0]\n",
            " [1 0 0]\n",
            " [1 0 0]\n",
            " [3 0 0]\n",
            " [2 0 0]\n",
            " [0 0 0]\n",
            " [3 0 0]\n",
            " [3 0 0]\n",
            " [3 0 0]\n",
            " [1 0 0]\n",
            " [0 0 0]\n",
            " [0 0 0]\n",
            " [0 0 0]\n",
            " [0 0 0]\n",
            " [1 0 0]\n",
            " [1 0 0]\n",
            " [1 0 0]\n",
            " [0 0 0]\n",
            " [3 0 0]\n",
            " [2 0 0]\n",
            " [1 0 0]\n",
            " [1 0 0]\n",
            " [3 0 0]\n",
            " [0 0 0]\n",
            " [0 0 0]\n",
            " [3 0 0]\n",
            " [2 0 0]\n",
            " [1 0 0]\n",
            " [3 0 0]\n",
            " [1 0 0]\n",
            " [1 0 0]\n",
            " [0 0 0]\n",
            " [1 0 0]\n",
            " [2 0 0]\n",
            " [0 0 0]\n",
            " [0 0 0]\n",
            " [0 0 0]\n",
            " [0 0 0]\n",
            " [2 0 0]\n",
            " [0 0 0]\n",
            " [3 0 0]\n",
            " [3 0 0]\n",
            " [0 0 0]\n",
            " [0 0 0]\n",
            " [2 0 0]\n",
            " [2 0 0]\n",
            " [1 0 0]\n",
            " [3 0 0]\n",
            " [2 0 0]\n",
            " [0 0 0]\n",
            " [2 0 0]\n",
            " [0 1 0]\n",
            " [2 0 0]\n",
            " [3 0 0]\n",
            " [1 0 0]\n",
            " [1 0 0]\n",
            " [0 1 0]\n",
            " [2 0 0]\n",
            " [0 0 0]\n",
            " [0 1 0]\n",
            " [3 0 0]\n",
            " [0 0 0]\n",
            " [3 0 0]\n",
            " [0 0 0]\n",
            " [3 0 0]\n",
            " [0 0 0]\n",
            " [3 0 0]\n",
            " [0 0 0]\n",
            " [3 0 0]\n",
            " [0 0 0]\n",
            " [1 0 0]\n",
            " [0 0 0]\n",
            " [2 0 0]\n",
            " [3 0 0]\n",
            " [3 0 0]\n",
            " [0 0 0]\n",
            " [3 0 0]\n",
            " [0 0 0]\n",
            " [1 0 0]\n",
            " [0 0 0]\n",
            " [3 0 0]\n",
            " [3 0 0]\n",
            " [2 0 0]\n",
            " [0 0 0]\n",
            " [3 1 0]\n",
            " [3 0 0]\n",
            " [2 0 0]\n",
            " [0 0 0]\n",
            " [1 0 0]\n",
            " [0 1 0]\n",
            " [2 0 0]\n",
            " [2 0 0]\n",
            " [0 0 0]\n",
            " [3 0 0]\n",
            " [3 0 0]\n",
            " [0 0 0]]\n"
          ]
        }
      ]
    },
    {
      "cell_type": "markdown",
      "source": [
        "### Training and Testing of the dataset"
      ],
      "metadata": {
        "id": "g7TzlRXaAIZ2"
      }
    },
    {
      "cell_type": "code",
      "source": [
        "from sklearn.model_selection import train_test_split\n",
        "X_train, X_test, y_train, y_test = train_test_split(X, y, test_size = 0.2, random_state = 0)"
      ],
      "metadata": {
        "id": "MaXiVkN_AC9t"
      },
      "execution_count": null,
      "outputs": []
    },
    {
      "cell_type": "markdown",
      "source": [
        "### Feature Scaling"
      ],
      "metadata": {
        "id": "dmFHMlQqASx8"
      }
    },
    {
      "cell_type": "code",
      "source": [
        "from sklearn.preprocessing import StandardScaler\n",
        "sc = StandardScaler()\n",
        "X_train = sc.fit_transform(X_train)\n",
        "X_test = sc.transform(X_test)"
      ],
      "metadata": {
        "id": "kOa2QGcYFmZQ"
      },
      "execution_count": null,
      "outputs": []
    },
    {
      "cell_type": "markdown",
      "source": [
        "## Building ANN!"
      ],
      "metadata": {
        "id": "5A9_ewlfGrQA"
      }
    },
    {
      "cell_type": "markdown",
      "source": [
        "##Adding Layers"
      ],
      "metadata": {
        "id": "oKsX2IoVGumk"
      }
    },
    {
      "cell_type": "markdown",
      "source": [
        "### Adding Input Layer"
      ],
      "metadata": {
        "id": "tGNj1kOcGyH2"
      }
    },
    {
      "cell_type": "code",
      "source": [
        "ann=tf.keras.models.Sequential()"
      ],
      "metadata": {
        "id": "fCUnn7_OG0Ln"
      },
      "execution_count": null,
      "outputs": []
    },
    {
      "cell_type": "markdown",
      "source": [
        "### Adding Hidden layer 1"
      ],
      "metadata": {
        "id": "ZVxsNXXxHER0"
      }
    },
    {
      "cell_type": "code",
      "source": [
        "ann.add(tf.keras.layers.Dense(units=6, activation='relu'))"
      ],
      "metadata": {
        "id": "Xnb4K8RHHEJh"
      },
      "execution_count": null,
      "outputs": []
    },
    {
      "cell_type": "markdown",
      "source": [
        "### Adding Hidden Layer 2"
      ],
      "metadata": {
        "id": "PcM08EYlHVnv"
      }
    },
    {
      "cell_type": "code",
      "source": [
        "ann.add(tf.keras.layers.Dense(units=6, activation='relu'))"
      ],
      "metadata": {
        "id": "GhJG6OtsHDmn"
      },
      "execution_count": null,
      "outputs": []
    },
    {
      "cell_type": "markdown",
      "source": [
        "### Final Output Layer"
      ],
      "metadata": {
        "id": "n4rG_kKWHa5f"
      }
    },
    {
      "cell_type": "code",
      "source": [
        "ann.add(tf.keras.layers.Dense(units=6, activation='sigmoid'))"
      ],
      "metadata": {
        "id": "7yEvN37JHaZS"
      },
      "execution_count": null,
      "outputs": []
    },
    {
      "cell_type": "markdown",
      "source": [
        "## Compiling the ANN"
      ],
      "metadata": {
        "id": "CAeQmJktHixb"
      }
    },
    {
      "cell_type": "code",
      "source": [
        "ann.compile(optimizer='adam',loss = tf.keras.losses.SparseCategoricalCrossentropy(from_logits=True), metrics=['accuracy'])"
      ],
      "metadata": {
        "id": "EzTgXhYlHkaW"
      },
      "execution_count": null,
      "outputs": []
    },
    {
      "cell_type": "code",
      "source": [
        "ann.fit(X_train, y_train, batch_size = 18, epochs = 100)"
      ],
      "metadata": {
        "id": "yzuacUqPHiTN",
        "colab": {
          "base_uri": "https://localhost:8080/"
        },
        "outputId": "d0f306fd-5b7c-4905-a28f-4b2781f4a65f"
      },
      "execution_count": null,
      "outputs": [
        {
          "output_type": "stream",
          "name": "stdout",
          "text": [
            "Epoch 1/100\n"
          ]
        },
        {
          "output_type": "stream",
          "name": "stderr",
          "text": [
            "/usr/local/lib/python3.7/dist-packages/tensorflow/python/util/dispatch.py:1082: UserWarning: \"`sparse_categorical_crossentropy` received `from_logits=True`, but the `output` argument was produced by a sigmoid or softmax activation and thus does not represent logits. Was this intended?\"\n",
            "  return dispatch_target(*args, **kwargs)\n"
          ]
        },
        {
          "output_type": "stream",
          "name": "stdout",
          "text": [
            "8/8 [==============================] - 0s 2ms/step - loss: 1.7439 - accuracy: 0.2677\n",
            "Epoch 2/100\n",
            "8/8 [==============================] - 0s 2ms/step - loss: 1.7129 - accuracy: 0.3386\n",
            "Epoch 3/100\n",
            "8/8 [==============================] - 0s 2ms/step - loss: 1.6836 - accuracy: 0.3780\n",
            "Epoch 4/100\n",
            "8/8 [==============================] - 0s 2ms/step - loss: 1.6551 - accuracy: 0.4646\n",
            "Epoch 5/100\n",
            "8/8 [==============================] - 0s 2ms/step - loss: 1.6260 - accuracy: 0.5276\n",
            "Epoch 6/100\n",
            "8/8 [==============================] - 0s 2ms/step - loss: 1.5947 - accuracy: 0.5512\n",
            "Epoch 7/100\n",
            "8/8 [==============================] - 0s 2ms/step - loss: 1.5632 - accuracy: 0.6299\n",
            "Epoch 8/100\n",
            "8/8 [==============================] - 0s 2ms/step - loss: 1.5307 - accuracy: 0.6929\n",
            "Epoch 9/100\n",
            "8/8 [==============================] - 0s 2ms/step - loss: 1.4969 - accuracy: 0.7008\n",
            "Epoch 10/100\n",
            "8/8 [==============================] - 0s 2ms/step - loss: 1.4622 - accuracy: 0.7244\n",
            "Epoch 11/100\n",
            "8/8 [==============================] - 0s 2ms/step - loss: 1.4288 - accuracy: 0.7480\n",
            "Epoch 12/100\n",
            "8/8 [==============================] - 0s 2ms/step - loss: 1.3946 - accuracy: 0.7717\n",
            "Epoch 13/100\n",
            "8/8 [==============================] - 0s 2ms/step - loss: 1.3613 - accuracy: 0.7795\n",
            "Epoch 14/100\n",
            "8/8 [==============================] - 0s 2ms/step - loss: 1.3275 - accuracy: 0.7795\n",
            "Epoch 15/100\n",
            "8/8 [==============================] - 0s 2ms/step - loss: 1.2937 - accuracy: 0.7638\n",
            "Epoch 16/100\n",
            "8/8 [==============================] - 0s 2ms/step - loss: 1.2577 - accuracy: 0.7638\n",
            "Epoch 17/100\n",
            "8/8 [==============================] - 0s 2ms/step - loss: 1.2233 - accuracy: 0.7638\n",
            "Epoch 18/100\n",
            "8/8 [==============================] - 0s 2ms/step - loss: 1.1917 - accuracy: 0.7717\n",
            "Epoch 19/100\n",
            "8/8 [==============================] - 0s 2ms/step - loss: 1.1591 - accuracy: 0.7717\n",
            "Epoch 20/100\n",
            "8/8 [==============================] - 0s 2ms/step - loss: 1.1245 - accuracy: 0.7717\n",
            "Epoch 21/100\n",
            "8/8 [==============================] - 0s 2ms/step - loss: 1.0913 - accuracy: 0.7795\n",
            "Epoch 22/100\n",
            "8/8 [==============================] - 0s 2ms/step - loss: 1.0582 - accuracy: 0.7795\n",
            "Epoch 23/100\n",
            "8/8 [==============================] - 0s 2ms/step - loss: 1.0254 - accuracy: 0.7795\n",
            "Epoch 24/100\n",
            "8/8 [==============================] - 0s 2ms/step - loss: 0.9938 - accuracy: 0.7795\n",
            "Epoch 25/100\n",
            "8/8 [==============================] - 0s 2ms/step - loss: 0.9642 - accuracy: 0.7795\n",
            "Epoch 26/100\n",
            "8/8 [==============================] - 0s 2ms/step - loss: 0.9362 - accuracy: 0.7795\n",
            "Epoch 27/100\n",
            "8/8 [==============================] - 0s 2ms/step - loss: 0.9090 - accuracy: 0.7874\n",
            "Epoch 28/100\n",
            "8/8 [==============================] - 0s 2ms/step - loss: 0.8843 - accuracy: 0.7953\n",
            "Epoch 29/100\n",
            "8/8 [==============================] - 0s 2ms/step - loss: 0.8603 - accuracy: 0.7953\n",
            "Epoch 30/100\n",
            "8/8 [==============================] - 0s 2ms/step - loss: 0.8382 - accuracy: 0.7953\n",
            "Epoch 31/100\n",
            "8/8 [==============================] - 0s 2ms/step - loss: 0.8171 - accuracy: 0.7953\n",
            "Epoch 32/100\n",
            "8/8 [==============================] - 0s 2ms/step - loss: 0.7976 - accuracy: 0.7953\n",
            "Epoch 33/100\n",
            "8/8 [==============================] - 0s 2ms/step - loss: 0.7783 - accuracy: 0.7953\n",
            "Epoch 34/100\n",
            "8/8 [==============================] - 0s 2ms/step - loss: 0.7616 - accuracy: 0.7953\n",
            "Epoch 35/100\n",
            "8/8 [==============================] - 0s 2ms/step - loss: 0.7457 - accuracy: 0.7953\n",
            "Epoch 36/100\n",
            "8/8 [==============================] - 0s 2ms/step - loss: 0.7299 - accuracy: 0.7953\n",
            "Epoch 37/100\n",
            "8/8 [==============================] - 0s 2ms/step - loss: 0.7163 - accuracy: 0.7953\n",
            "Epoch 38/100\n",
            "8/8 [==============================] - 0s 2ms/step - loss: 0.7035 - accuracy: 0.7953\n",
            "Epoch 39/100\n",
            "8/8 [==============================] - 0s 2ms/step - loss: 0.6923 - accuracy: 0.7953\n",
            "Epoch 40/100\n",
            "8/8 [==============================] - 0s 2ms/step - loss: 0.6813 - accuracy: 0.7953\n",
            "Epoch 41/100\n",
            "8/8 [==============================] - 0s 2ms/step - loss: 0.6703 - accuracy: 0.7953\n",
            "Epoch 42/100\n",
            "8/8 [==============================] - 0s 2ms/step - loss: 0.6606 - accuracy: 0.7953\n",
            "Epoch 43/100\n",
            "8/8 [==============================] - 0s 2ms/step - loss: 0.6509 - accuracy: 0.7953\n",
            "Epoch 44/100\n",
            "8/8 [==============================] - 0s 2ms/step - loss: 0.6422 - accuracy: 0.7953\n",
            "Epoch 45/100\n",
            "8/8 [==============================] - 0s 2ms/step - loss: 0.6333 - accuracy: 0.7953\n",
            "Epoch 46/100\n",
            "8/8 [==============================] - 0s 2ms/step - loss: 0.6248 - accuracy: 0.7953\n",
            "Epoch 47/100\n",
            "8/8 [==============================] - 0s 2ms/step - loss: 0.6168 - accuracy: 0.7953\n",
            "Epoch 48/100\n",
            "8/8 [==============================] - 0s 2ms/step - loss: 0.6102 - accuracy: 0.7953\n",
            "Epoch 49/100\n",
            "8/8 [==============================] - 0s 2ms/step - loss: 0.6047 - accuracy: 0.7953\n",
            "Epoch 50/100\n",
            "8/8 [==============================] - 0s 2ms/step - loss: 0.5993 - accuracy: 0.7953\n",
            "Epoch 51/100\n",
            "8/8 [==============================] - 0s 2ms/step - loss: 0.5939 - accuracy: 0.7953\n",
            "Epoch 52/100\n",
            "8/8 [==============================] - 0s 2ms/step - loss: 0.5897 - accuracy: 0.7953\n",
            "Epoch 53/100\n",
            "8/8 [==============================] - 0s 2ms/step - loss: 0.5845 - accuracy: 0.7953\n",
            "Epoch 54/100\n",
            "8/8 [==============================] - 0s 2ms/step - loss: 0.5798 - accuracy: 0.7953\n",
            "Epoch 55/100\n",
            "8/8 [==============================] - 0s 2ms/step - loss: 0.5757 - accuracy: 0.7953\n",
            "Epoch 56/100\n",
            "8/8 [==============================] - 0s 2ms/step - loss: 0.5717 - accuracy: 0.7953\n",
            "Epoch 57/100\n",
            "8/8 [==============================] - 0s 3ms/step - loss: 0.5672 - accuracy: 0.7953\n",
            "Epoch 58/100\n",
            "8/8 [==============================] - 0s 2ms/step - loss: 0.5641 - accuracy: 0.7953\n",
            "Epoch 59/100\n",
            "8/8 [==============================] - 0s 2ms/step - loss: 0.5608 - accuracy: 0.7953\n",
            "Epoch 60/100\n",
            "8/8 [==============================] - 0s 2ms/step - loss: 0.5575 - accuracy: 0.7953\n",
            "Epoch 61/100\n",
            "8/8 [==============================] - 0s 2ms/step - loss: 0.5546 - accuracy: 0.7953\n",
            "Epoch 62/100\n",
            "8/8 [==============================] - 0s 2ms/step - loss: 0.5517 - accuracy: 0.7953\n",
            "Epoch 63/100\n",
            "8/8 [==============================] - 0s 2ms/step - loss: 0.5495 - accuracy: 0.7953\n",
            "Epoch 64/100\n",
            "8/8 [==============================] - 0s 2ms/step - loss: 0.5464 - accuracy: 0.7953\n",
            "Epoch 65/100\n",
            "8/8 [==============================] - 0s 2ms/step - loss: 0.5443 - accuracy: 0.7953\n",
            "Epoch 66/100\n",
            "8/8 [==============================] - 0s 2ms/step - loss: 0.5423 - accuracy: 0.7953\n",
            "Epoch 67/100\n",
            "8/8 [==============================] - 0s 2ms/step - loss: 0.5412 - accuracy: 0.7953\n",
            "Epoch 68/100\n",
            "8/8 [==============================] - 0s 2ms/step - loss: 0.5375 - accuracy: 0.7953\n",
            "Epoch 69/100\n",
            "8/8 [==============================] - 0s 2ms/step - loss: 0.5351 - accuracy: 0.7953\n",
            "Epoch 70/100\n",
            "8/8 [==============================] - 0s 3ms/step - loss: 0.5337 - accuracy: 0.7953\n",
            "Epoch 71/100\n",
            "8/8 [==============================] - 0s 2ms/step - loss: 0.5312 - accuracy: 0.7953\n",
            "Epoch 72/100\n",
            "8/8 [==============================] - 0s 2ms/step - loss: 0.5296 - accuracy: 0.7953\n",
            "Epoch 73/100\n",
            "8/8 [==============================] - 0s 2ms/step - loss: 0.5283 - accuracy: 0.7953\n",
            "Epoch 74/100\n",
            "8/8 [==============================] - 0s 2ms/step - loss: 0.5264 - accuracy: 0.7953\n",
            "Epoch 75/100\n",
            "8/8 [==============================] - 0s 2ms/step - loss: 0.5250 - accuracy: 0.7953\n",
            "Epoch 76/100\n",
            "8/8 [==============================] - 0s 2ms/step - loss: 0.5238 - accuracy: 0.7953\n",
            "Epoch 77/100\n",
            "8/8 [==============================] - 0s 2ms/step - loss: 0.5221 - accuracy: 0.7953\n",
            "Epoch 78/100\n",
            "8/8 [==============================] - 0s 2ms/step - loss: 0.5206 - accuracy: 0.7953\n",
            "Epoch 79/100\n",
            "8/8 [==============================] - 0s 2ms/step - loss: 0.5196 - accuracy: 0.7953\n",
            "Epoch 80/100\n",
            "8/8 [==============================] - 0s 2ms/step - loss: 0.5185 - accuracy: 0.7953\n",
            "Epoch 81/100\n",
            "8/8 [==============================] - 0s 2ms/step - loss: 0.5174 - accuracy: 0.7953\n",
            "Epoch 82/100\n",
            "8/8 [==============================] - 0s 2ms/step - loss: 0.5161 - accuracy: 0.7953\n",
            "Epoch 83/100\n",
            "8/8 [==============================] - 0s 2ms/step - loss: 0.5153 - accuracy: 0.7953\n",
            "Epoch 84/100\n",
            "8/8 [==============================] - 0s 2ms/step - loss: 0.5140 - accuracy: 0.7953\n",
            "Epoch 85/100\n",
            "8/8 [==============================] - 0s 2ms/step - loss: 0.5128 - accuracy: 0.7953\n",
            "Epoch 86/100\n",
            "8/8 [==============================] - 0s 2ms/step - loss: 0.5118 - accuracy: 0.7953\n",
            "Epoch 87/100\n",
            "8/8 [==============================] - 0s 2ms/step - loss: 0.5093 - accuracy: 0.7953\n",
            "Epoch 88/100\n",
            "8/8 [==============================] - 0s 2ms/step - loss: 0.5083 - accuracy: 0.7953\n",
            "Epoch 89/100\n",
            "8/8 [==============================] - 0s 2ms/step - loss: 0.5075 - accuracy: 0.7953\n",
            "Epoch 90/100\n",
            "8/8 [==============================] - 0s 2ms/step - loss: 0.5064 - accuracy: 0.7953\n",
            "Epoch 91/100\n",
            "8/8 [==============================] - 0s 2ms/step - loss: 0.5056 - accuracy: 0.7953\n",
            "Epoch 92/100\n",
            "8/8 [==============================] - 0s 2ms/step - loss: 0.5045 - accuracy: 0.7953\n",
            "Epoch 93/100\n",
            "8/8 [==============================] - 0s 2ms/step - loss: 0.5036 - accuracy: 0.7953\n",
            "Epoch 94/100\n",
            "8/8 [==============================] - 0s 2ms/step - loss: 0.5029 - accuracy: 0.7953\n",
            "Epoch 95/100\n",
            "8/8 [==============================] - 0s 2ms/step - loss: 0.5018 - accuracy: 0.7953\n",
            "Epoch 96/100\n",
            "8/8 [==============================] - 0s 2ms/step - loss: 0.5009 - accuracy: 0.7953\n",
            "Epoch 97/100\n",
            "8/8 [==============================] - 0s 3ms/step - loss: 0.5000 - accuracy: 0.7953\n",
            "Epoch 98/100\n",
            "8/8 [==============================] - 0s 2ms/step - loss: 0.4995 - accuracy: 0.7953\n",
            "Epoch 99/100\n",
            "8/8 [==============================] - 0s 2ms/step - loss: 0.4979 - accuracy: 0.7953\n",
            "Epoch 100/100\n",
            "8/8 [==============================] - 0s 2ms/step - loss: 0.4968 - accuracy: 0.7953\n"
          ]
        },
        {
          "output_type": "execute_result",
          "data": {
            "text/plain": [
              "<keras.callbacks.History at 0x7f0c55fa2ad0>"
            ]
          },
          "metadata": {},
          "execution_count": 157
        }
      ]
    },
    {
      "cell_type": "code",
      "source": [
        "y_pred = ann.predict(X_test)\n"
      ],
      "metadata": {
        "id": "PpUMvAXc8tGY"
      },
      "execution_count": null,
      "outputs": []
    },
    {
      "cell_type": "code",
      "source": [
        "y_pred2 = []\n",
        "answers = []\n",
        "for i in y_pred:\n",
        "    for j in i:\n",
        "        if j>=0.5:\n",
        "            y_pred2.append(1)\n",
        "        else:\n",
        "            y_pred2.append(0)"
      ],
      "metadata": {
        "id": "wZZCbaRnGb7h"
      },
      "execution_count": null,
      "outputs": []
    },
    {
      "cell_type": "code",
      "source": [
        "from sklearn.metrics import accuracy_score\n",
        "print(\"Accuracy: \",round(accuracy_score(y_test,y_pred2)*100,2),\"%\")"
      ],
      "metadata": {
        "colab": {
          "base_uri": "https://localhost:8080/"
        },
        "id": "tDBY80_6GWjA",
        "outputId": "5107ddcd-e0d2-40b6-8af4-275506af9932"
      },
      "execution_count": null,
      "outputs": [
        {
          "output_type": "stream",
          "name": "stdout",
          "text": [
            "Accuracy:  84.38 %\n"
          ]
        }
      ]
    }
  ]
}